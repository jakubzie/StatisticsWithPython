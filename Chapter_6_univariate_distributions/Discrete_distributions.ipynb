{
 "cells": [
  {
   "cell_type": "markdown",
   "metadata": {},
   "source": [
    "Bernoulli Distribution:\\\n",
    "Bernoulli Distribution has only two states that occur with known probability. The best example would be the simple coin flipping. If the coin is not rigged, we can only get heads or tails, with probabilities equal 0.5 and 0.5.\n",
    "$$p_1 + p_2 = 1$$\n",
    "$$p_1 = 1 - p_2$$"
   ]
  },
  {
   "cell_type": "code",
   "execution_count": 1,
   "metadata": {},
   "outputs": [],
   "source": [
    "import scipy.stats as stats\n",
    "import numpy as np"
   ]
  },
  {
   "cell_type": "code",
   "execution_count": 9,
   "metadata": {},
   "outputs": [],
   "source": [
    "p = 0.1 #we give python one of the probabilities as the second one can be easilly calculated\n",
    "bernoulliDistribution = stats.bernoulli(p) #we define the frozen Bernoulli distribution\n",
    "p_0 = bernoulliDistribution.pmf(0) #probability that observation with given probability p will ocure 0 times\n",
    "p_1 = bernoulliDistribution.pmf(1) #probability that observation with given probability p will ocure once\n",
    "p_2 = bernoulliDistribution.pmf(2) #probability that observation with given probability p will ocure twice\n",
    "#it is zero in this case because we only have one \"throw\" here\n",
    "trials = bernoulliDistribution.rvs(10) #we can simulate 10 trials"
   ]
  },
  {
   "cell_type": "markdown",
   "metadata": {},
   "source": [
    "Binomial Distribution:\\\n",
    "Binomial distribution answers the question: how many out of n trials will succeed? So we conduct n experiments where value of success is known and equal p and add the number of successes.\n",
    "$$X ~ B(n,p)$$"
   ]
  },
  {
   "cell_type": "code",
   "execution_count": 11,
   "metadata": {},
   "outputs": [
    {
     "name": "stdout",
     "output_type": "stream",
     "text": [
      "[0.01152922 0.05764608 0.13690943 0.20536414 0.2181994 ]\n"
     ]
    }
   ],
   "source": [
    "n = 20 #we assume we have 20 trials\n",
    "p = 0.2 #the chance of succeeding equals 0.2\n",
    "binomialDistribution = stats.binom(n,p)\n",
    "print(binomialDistribution.pmf(np.arange(5))) #print probabilities that success will occur 0, 1, 2, 3, and 4 times out of 20\n",
    "#if we calculated probabilities for every possible outcome, so 0, 1, 2, ..., 19, 20 successes out of 20, all those \n",
    "#probabilities should add up to 1\n"
   ]
  }
 ],
 "metadata": {
  "kernelspec": {
   "display_name": "base",
   "language": "python",
   "name": "python3"
  },
  "language_info": {
   "codemirror_mode": {
    "name": "ipython",
    "version": 3
   },
   "file_extension": ".py",
   "mimetype": "text/x-python",
   "name": "python",
   "nbconvert_exporter": "python",
   "pygments_lexer": "ipython3",
   "version": "3.11.5"
  }
 },
 "nbformat": 4,
 "nbformat_minor": 2
}
