{
 "cells": [
  {
   "cell_type": "markdown",
   "metadata": {},
   "source": [
    "Discrete distribution - we can identify every possible outcome and probability of it happening (example: throwing a fair dice). Probability of each outcome is a number between 0 and 1, and all probabilities from discrete distribution sum to 1.\n",
    "0 <= Pi <= 1\n",
    "Sum(Pi) = 1"
   ]
  },
  {
   "cell_type": "markdown",
   "metadata": {},
   "source": [
    "Continuous distributions are defined by probability density functions (PDF). They can be any number (usually they should be located inside some intervals, set by study case or common sense). PDF p(x) describes probability of X (a random variable) taking on the value of x (a random variate, particular outcome of a study). Probability can take on values from interval <0;1) (1 is excluded because if one particular value was 100% percent certain then it would be a discrete distribution). Field beneath the PDF must be equal to 1 (integral from -infty to +infty of p(x)). Integral over p(x) between a and b (a,b are contained in X) represents the likelihood of finding a value of x in that range.\n",
    "0 <= p(x) < 1\n",
    "integral +infty -infty p(x)"
   ]
  },
  {
   "cell_type": "markdown",
   "metadata": {},
   "source": [
    "Expected value is a value calculated based on our sample, that, in case of well-designed study, should more or less point at mean value for population.\n",
    " \n",
    "for discrete distributions:\n",
    "E[X] = Sum(xi*Pi)\n",
    "\n",
    "for continuous distributions:\n",
    "E[X] = integral from -infty to +infty over x*f(x) where f(x) is a PDF"
   ]
  },
  {
   "cell_type": "markdown",
   "metadata": {},
   "source": [
    "Variance is a statistic that shows variability, so how much on average (?) variates deviate from mean. Variance on its own is hard to interprate, but its square root is much better (sqrt(Var(X)) = standard deviation(X))\n",
    "\n",
    "Var(X) = E[(X-E[X])^2] = E[X^2] - (E[X])^2\n",
    "\n"
   ]
  },
  {
   "cell_type": "markdown",
   "metadata": {},
   "source": [
    "Degrees of freedom (DOF) \n",
    "I must read some more source because ISP book doesn't explain it well"
   ]
  }
 ],
 "metadata": {
  "language_info": {
   "name": "python"
  }
 },
 "nbformat": 4,
 "nbformat_minor": 2
}
