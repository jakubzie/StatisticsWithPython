{
 "cells": [
  {
   "cell_type": "markdown",
   "metadata": {},
   "source": [
    "To create a study, we need to clarify the goal of the study:\n",
    "1. Do we want to compare two or more groups, or just one group with a set value? (leads to statistical tests)\n",
    "2. Screen observed data to identify and showcase most important factors? (leads to screening investigation of the data)\n",
    "3. Find optimal values, max or min of the data? (optimization problem)\n",
    "4. Develop a regression model to quantify the dependence of input on response variable? (statistical modeling)\n",
    "Once we know what we want to do, we have to choose how to do it, and it will be either controlled experiments (where we typically vary only one parameter and see how it affects the outcome) or observations."
   ]
  },
  {
   "cell_type": "markdown",
   "metadata": {},
   "source": [
    "Types of studies:\\\n",
    "Observational study - the researcher only observes and collects data, without any interaction with the population.\\\n",
    "Experimental study - the researcher influences events, for example treats a patient with new medication and then investigate the outcome."
   ]
  },
  {
   "cell_type": "markdown",
   "metadata": {},
   "source": [
    "Prospective study - data is collected from the start of the study, older data isn't taken into consideration.\\\n",
    "Retrospective study - data is acquired from the past, from previous events."
   ]
  },
  {
   "cell_type": "markdown",
   "metadata": {},
   "source": [
    "Longitudinal study - data is collected from the same sources over a period of time (e.g. patients in hospital, that are checked on every day).\\\n",
    "Cross-sectional study - individuals are observed only once (e.g. surveys)"
   ]
  },
  {
   "cell_type": "markdown",
   "metadata": {},
   "source": [
    "Case-control study - change is applied first, and then after some time subjects are chosen to participate in a study, based on some crieria (e.g. if they responded to the new medicine)\\\n",
    "Cohort study - subjects are chosen first and then change is applied, subjects are studied over time (e.g. how do they respond to the medicine)"
   ]
  },
  {
   "cell_type": "markdown",
   "metadata": {},
   "source": [
    "Randomized controlled trial study - subjects are chosen to participate in a study and they are randomly divided into two groups: control group, that isn't exposed to change of factors, and intervention group. Effects of changing factors are studied by comparing two groups. "
   ]
  },
  {
   "cell_type": "markdown",
   "metadata": {},
   "source": [
    "Crossover study - every subject is exposed to every treatment but in randomized sequence to cancel out any sequence effects (e.g. subjects perform 5 tasks and they are graded for their performance, but they do them in two variations - standing and sitting. Everybody has to do 10 tasks in total in random order)."
   ]
  }
 ],
 "metadata": {
  "language_info": {
   "name": "python"
  }
 },
 "nbformat": 4,
 "nbformat_minor": 2
}
