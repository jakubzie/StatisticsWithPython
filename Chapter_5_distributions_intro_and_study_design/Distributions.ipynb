{
 "cells": [
  {
   "cell_type": "markdown",
   "metadata": {},
   "source": [
    "Discrete distribution - we can identify every possible outcome and probability of it happening (example: throwing a fair dice). Probability of each outcome is a number between 0 and 1, and all probabilities from discrete distribution sum to 1.\n",
    "$$\n",
    "0 \\leq Pi \\leq 1\n",
    "$$\n",
    "$$\n",
    "\\sum(P_i) = 1\n",
    "$$"
   ]
  },
  {
   "cell_type": "markdown",
   "metadata": {},
   "source": [
    "Continuous distributions are defined by probability density functions (PDF). They can be any number (usually they should be located inside some intervals, set by study case or common sense). PDF p(x) describes probability of X (a random variable) taking on the value of x (a random variate, particular outcome of a study). Probability can take on values from interval <0;1) (1 is excluded because if one particular value was 100% percent certain then it would be a discrete distribution). Field beneath the PDF must be equal to 1 (integral from -infty to +infty of p(x)). Integral over p(x) between a and b (a,b are contained in X) represents the likelihood of finding a value of x in that range.\n",
    "$$\n",
    "0 \\leq p(x) \\lt 1\n",
    "$$\n",
    "$$\n",
    "\\int^{\\infty}_{-\\infty} p(x)dx\n",
    "$$\n",
    "$$\n",
    "\\int^{a}_{b} p(x)dx = \\text{prawdopodobieństwo, że wylosowana wartość znajdzie się w przedziale } \\langle a;b\\rangle\n",
    "$$"
   ]
  },
  {
   "cell_type": "markdown",
   "metadata": {},
   "source": [
    "Expected value is a value calculated based on our sample, that, in case of well-designed study, should more or less point at mean value for population.\n",
    " \n",
    "for discrete distributions:\n",
    "$$\n",
    "E[X] = \\sum(x_i*P_i)\n",
    "$$\n",
    "\n",
    "for continuous distributions:\n",
    "$$\n",
    "E[X] = \\int_{-\\infty}^{\\infty} x\\times f(x) \\, dx \n",
    "$$\n",
    "where f(x) is a PDF"
   ]
  },
  {
   "cell_type": "markdown",
   "metadata": {},
   "source": [
    "Variance is a statistic that shows variability, so how much on average (?) variates deviate from mean. Variance on its own is hard to interprate, but its square root is much better (sqrt(Var(X)) = standard deviation(X))\n",
    "$$\n",
    "Var(X) = E[(X-E[X])^2] = E[X^2] - (E[X])^2\n",
    "$$\n"
   ]
  },
  {
   "cell_type": "markdown",
   "metadata": {},
   "source": [
    "Degrees of freedom (DOF) - degrees of freedom are equal to the number of independent parameters/data values/estimates of statistical data. For example: we have 5 cards with numbers from 1 to 5. We can put those cards on the table in many different ways, but we can actually chose how to play 4 of them, because the 5th one will always be dependent on how the rest was played. The last card doesn't have the freedom to be put anywhere. That's why in this case DOF = 4. It is pretty common for DOF to be n-1 or n-2, depending on the amount of independent variables."
   ]
  }
 ],
 "metadata": {
  "language_info": {
   "name": "python"
  }
 },
 "nbformat": 4,
 "nbformat_minor": 2
}
