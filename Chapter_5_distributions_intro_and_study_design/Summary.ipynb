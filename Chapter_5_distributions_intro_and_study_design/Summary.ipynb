{
 "cells": [
  {
   "cell_type": "markdown",
   "metadata": {},
   "source": [
    "1. Be realistic about the task. Most investigations require more than one round of experiments and analyses. First round of measurements and analising often serves as a mean to identify what data we lack and what we should have done differently. Additionally it can grant us information about reasonable estimate of the number of subjects or samples needed in order to accept or reject given hypothesis. The second round of investigations is in most cases the real thing and allows us to find answers that we can actually present and publish.\n",
    "2. Plan in sufficient control/calibration experiments. Measurements of data can be influenced by numerous artifacts. Especially in physics, where we must measure something, there is a risk that there may be a drift in sensors or in accuracy of the analysis program. It is recommended to perform some tests, for example make some calculations of which we know the results. It allows us to check if everything works well and in desired accuracy.\n",
    "3. Take notes. Be sure to include information about every factor that may influence the results. We should document everything that happens during the experiment:\n",
    "    - The date and time of the experiment.\n",
    "    - Information about subjects and experimenters.\n",
    "    - The exact paradigm that we decided on.\n",
    "    - Anything noteworthy that happens during the experiment.\n",
    "It can be brief, but we must note everything noteworthy that happens during the experiment. Its important to be clear about data-files that will be later used in analysis. We should also take notes about characteristics of data, not to be surprised when it comes to analysis. \n",
    "4. Store data in a well-structured way. Try to have clear naming conventions that help in grouping and sorting files, e.g. with dates or names suggesting contents of the file. Be carefull not to delete or overwrite data, as repeating experiments can sometimes be impossible."
   ]
  }
 ],
 "metadata": {
  "language_info": {
   "name": "python"
  }
 },
 "nbformat": 4,
 "nbformat_minor": 2
}
