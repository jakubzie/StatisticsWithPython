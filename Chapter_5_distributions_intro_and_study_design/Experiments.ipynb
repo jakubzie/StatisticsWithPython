{
 "cells": [
  {
   "cell_type": "markdown",
   "metadata": {},
   "source": [
    "Experiments that study is made of must also be designed to protect it from bringing in bias that may distort the results.\\\n",
    "\\\n",
    "Sample selection:\n",
    "1. The samples should be representative of the group to be studied.\n",
    "2. In comparative studies, groups must be similar with respect to known sources of variation.\n",
    "3. Make sure that selection of samples (or subjects) sufficiently covers all of the parameters that you need. For example, if age is a nuisance factor, make sure to have a wide variety of observations in each group, e.g. young, mid aged and elderly. If we took youth only, it would bias the study (of course unless its all about young people).\n"
   ]
  },
  {
   "cell_type": "markdown",
   "metadata": {},
   "source": [
    "Sample size:\\\n",
    "Many studies fail because the sample size is too small to observe an effect of the desired magnitude. When determining the sample size:\n",
    "1. We must know what is the variance of the parameter under investigation.\n",
    "2. We must know what is the magnitude of the expected effect, relative to the standard deviation of the parameter.\n",
    "This is known as power analysis. (It will be discussed in later chapters)"
   ]
  },
  {
   "cell_type": "markdown",
   "metadata": {},
   "source": [
    "Bias:\\\n",
    "To avoid bias in data, we can't only take sample size into consideration. Bias can have a number of sources:\n",
    "1. The selection of subjects (only one social group, non-response bias where part of subjects doesn't respond to the survey etc.).\n",
    "2. The structure of the experiment.\n",
    "3. The measurement devices.\n",
    "4. The analysis of the data.\n",
    "Bias in the data should be avoided as much as possible."
   ]
  },
  {
   "cell_type": "markdown",
   "metadata": {},
   "source": [
    "Blinding:\\\n",
    "To avoid bias on side of the researcher and/or the person that does the analysis, they all should be blinded. It can be either double blinding (subject and experimenter are blinded) or triple blinding (subject, experimenter and data analyst are blinded). It helps avoid subjective bias."
   ]
  },
  {
   "cell_type": "markdown",
   "metadata": {},
   "source": [
    "Factorial design:\\\n",
    "Full factorial design of the experiment means that we test each combination of factors.\\\n",
    "We must also distinguish between within subject comparison (different conditions are testes inside the same group or individual) and between subject comparison (different conditions are tested between different groups). The former allows to detect smaller differences with the same number of subjects."
   ]
  }
 ],
 "metadata": {
  "language_info": {
   "name": "python"
  }
 },
 "nbformat": 4,
 "nbformat_minor": 2
}
