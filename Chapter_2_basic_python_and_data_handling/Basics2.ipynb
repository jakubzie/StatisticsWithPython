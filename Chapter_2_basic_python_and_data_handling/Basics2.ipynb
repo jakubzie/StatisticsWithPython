{
 "cells": [
  {
   "cell_type": "code",
   "execution_count": 2,
   "metadata": {},
   "outputs": [],
   "source": [
    "# -*- coding: utf-8 -*- #setting the coding\n",
    "import numpy as np #import packages\n",
    "import pandas as pd"
   ]
  },
  {
   "cell_type": "code",
   "execution_count": 13,
   "metadata": {},
   "outputs": [],
   "source": [
    "t = np.arange(0,10,0.1) #create a vector with values from 0 to 10 with step 0.1\n",
    "x = np.sin(t) #create vector based on vector t (sin of every value of t)\n",
    "y = np.cos(t) #create vector of cos values of t\n",
    "\n",
    "df = pd.DataFrame({\"Time\":t, \"X\":x, \"Y\":y}) #create DataFrame, pandas object\n",
    "#it is created by passing a dictionary to the pandas function\n",
    "dictio = {\"key1\":x,\"key2\":y} #normal dictionary creation\n",
    "#print(dictio) #that way though data is not combined into a spredsheet-like object, values are just printed as\n",
    "#\"key1\":array([values])"
   ]
  },
  {
   "cell_type": "code",
   "execution_count": 12,
   "metadata": {},
   "outputs": [
    {
     "name": "stdout",
     "output_type": "stream",
     "text": [
      "    Time         X         Y\n",
      "0    0.0  0.000000  1.000000\n",
      "1    0.1  0.099833  0.995004\n",
      "2    0.2  0.198669  0.980067\n",
      "3    0.3  0.295520  0.955336\n",
      "4    0.4  0.389418  0.921061\n",
      "..   ...       ...       ...\n",
      "95   9.5 -0.075151 -0.997172\n",
      "96   9.6 -0.174327 -0.984688\n",
      "97   9.7 -0.271761 -0.962365\n",
      "98   9.8 -0.366479 -0.930426\n",
      "99   9.9 -0.457536 -0.889191\n",
      "\n",
      "[100 rows x 3 columns]\n"
     ]
    }
   ],
   "source": [
    "print(df) #we can adress the whole dataframe"
   ]
  },
  {
   "cell_type": "code",
   "execution_count": 14,
   "metadata": {},
   "outputs": [
    {
     "name": "stdout",
     "output_type": "stream",
     "text": [
      "0     0.0\n",
      "1     0.1\n",
      "2     0.2\n",
      "3     0.3\n",
      "4     0.4\n",
      "     ... \n",
      "95    9.5\n",
      "96    9.6\n",
      "97    9.7\n",
      "98    9.8\n",
      "99    9.9\n",
      "Name: Time, Length: 100, dtype: float64\n",
      "    Time         X\n",
      "0    0.0  0.000000\n",
      "1    0.1  0.099833\n",
      "2    0.2  0.198669\n",
      "3    0.3  0.295520\n",
      "4    0.4  0.389418\n",
      "..   ...       ...\n",
      "95   9.5 -0.075151\n",
      "96   9.6 -0.174327\n",
      "97   9.7 -0.271761\n",
      "98   9.8 -0.366479\n",
      "99   9.9 -0.457536\n",
      "\n",
      "[100 rows x 2 columns]\n"
     ]
    }
   ],
   "source": [
    "print(df.Time) #we can adress certain column by its name\n",
    "print(df[[\"Time\",\"X\"]]) #another way to adress columns (note that there is need for double brackets)"
   ]
  },
  {
   "cell_type": "code",
   "execution_count": 19,
   "metadata": {},
   "outputs": [
    {
     "name": "stdout",
     "output_type": "stream",
     "text": [
      "   Time         X         Y\n",
      "0   0.0  0.000000  1.000000\n",
      "1   0.1  0.099833  0.995004\n",
      "2   0.2  0.198669  0.980067\n",
      "3   0.3  0.295520  0.955336\n",
      "4   0.4  0.389418  0.921061\n",
      "    Time         X         Y\n",
      "95   9.5 -0.075151 -0.997172\n",
      "96   9.6 -0.174327 -0.984688\n",
      "97   9.7 -0.271761 -0.962365\n",
      "98   9.8 -0.366479 -0.930426\n",
      "99   9.9 -0.457536 -0.889191\n",
      "   Time         X         Y\n",
      "4   0.4  0.389418  0.921061\n",
      "5   0.5  0.479426  0.877583\n",
      "6   0.6  0.564642  0.825336\n",
      "7   0.7  0.644218  0.764842\n",
      "8   0.8  0.717356  0.696707\n",
      "9   0.9  0.783327  0.621610\n",
      "    Time         X         Y\n",
      "10   1.0  0.841471  0.540302\n",
      "11   1.1  0.891207  0.453596\n",
      "12   1.2  0.932039  0.362358\n",
      "13   1.3  0.963558  0.267499\n",
      "14   1.4  0.985450  0.169967\n"
     ]
    }
   ],
   "source": [
    "print(df.head()) #allows us to extract first few rows\n",
    "print(df.tail()) #allows us to extract last few rows\n",
    "print(df[4:10]) #allows us to extract rows from 4 to 9\n",
    "print(df[10:15]) #rows from 10 to 14"
   ]
  },
  {
   "cell_type": "code",
   "execution_count": 21,
   "metadata": {},
   "outputs": [
    {
     "name": "stdout",
     "output_type": "stream",
     "text": [
      "    Time         X\n",
      "10   1.0  0.841471\n",
      "11   1.1  0.891207\n",
      "12   1.2  0.932039\n",
      "13   1.3  0.963558\n",
      "14   1.4  0.985450\n",
      "15   1.5  0.997495\n",
      "16   1.6  0.999574\n",
      "17   1.7  0.991665\n",
      "18   1.8  0.973848\n",
      "19   1.9  0.946300\n",
      "0    0.0\n",
      "1    0.1\n",
      "2    0.2\n",
      "3    0.3\n",
      "4    0.4\n",
      "5    0.5\n",
      "6    0.6\n",
      "7    0.7\n",
      "8    0.8\n",
      "9    0.9\n",
      "Name: Time, dtype: float64\n"
     ]
    }
   ],
   "source": [
    "#we can also choose certain columns and rows simultaniously\n",
    "print(df[[\"Time\",\"X\"]][10:20]) #columns \"Time\" and \"X\", rows from 10 to 19\n",
    "print(df.Time[0:10]) #column \"Time\", rows 0 to 9. note that if called that way there is no header for column"
   ]
  },
  {
   "cell_type": "code",
   "execution_count": 31,
   "metadata": {},
   "outputs": [
    {
     "name": "stdout",
     "output_type": "stream",
     "text": [
      "   Time         X\n",
      "4   0.4  0.389418\n",
      "5   0.5  0.479426\n",
      "6   0.6  0.564642\n",
      "7   0.7  0.644218\n",
      "8   0.8  0.717356\n",
      "9   0.9  0.783327\n"
     ]
    },
    {
     "data": {
      "text/html": [
       "<div>\n",
       "<style scoped>\n",
       "    .dataframe tbody tr th:only-of-type {\n",
       "        vertical-align: middle;\n",
       "    }\n",
       "\n",
       "    .dataframe tbody tr th {\n",
       "        vertical-align: top;\n",
       "    }\n",
       "\n",
       "    .dataframe thead th {\n",
       "        text-align: right;\n",
       "    }\n",
       "</style>\n",
       "<table border=\"1\" class=\"dataframe\">\n",
       "  <thead>\n",
       "    <tr style=\"text-align: right;\">\n",
       "      <th></th>\n",
       "      <th>Time</th>\n",
       "      <th>X</th>\n",
       "      <th>Y</th>\n",
       "    </tr>\n",
       "  </thead>\n",
       "  <tbody>\n",
       "    <tr>\n",
       "      <th>0</th>\n",
       "      <td>0.0</td>\n",
       "      <td>0.0</td>\n",
       "      <td>1.0</td>\n",
       "    </tr>\n",
       "  </tbody>\n",
       "</table>\n",
       "</div>"
      ],
      "text/plain": [
       "   Time    X    Y\n",
       "0   0.0  0.0  1.0"
      ]
     },
     "execution_count": 31,
     "metadata": {},
     "output_type": "execute_result"
    }
   ],
   "source": [
    "print(df.iloc[4:10,[0,1]]) #another way to adress certain combinations\n",
    "#note that before first argument was columns and the second was rows\n",
    "#with .iloc it is the other way around, rows first and then columns\n",
    "#!!! it is important to remember that numpy handles rows first, and pandas starts with columns !!!\n",
    "df[0:1] #to slice a single row it is necessary to use notation like that\n",
    "#df[0] #something like that won't work"
   ]
  },
  {
   "cell_type": "code",
   "execution_count": 25,
   "metadata": {},
   "outputs": [
    {
     "data": {
      "text/plain": [
       "array([[ 0.        ,  0.        ,  1.        ],\n",
       "       [ 0.1       ,  0.09983342,  0.99500417],\n",
       "       [ 0.2       ,  0.19866933,  0.98006658],\n",
       "       [ 0.3       ,  0.29552021,  0.95533649],\n",
       "       [ 0.4       ,  0.38941834,  0.92106099],\n",
       "       [ 0.5       ,  0.47942554,  0.87758256],\n",
       "       [ 0.6       ,  0.56464247,  0.82533561],\n",
       "       [ 0.7       ,  0.64421769,  0.76484219],\n",
       "       [ 0.8       ,  0.71735609,  0.69670671],\n",
       "       [ 0.9       ,  0.78332691,  0.62160997],\n",
       "       [ 1.        ,  0.84147098,  0.54030231],\n",
       "       [ 1.1       ,  0.89120736,  0.45359612],\n",
       "       [ 1.2       ,  0.93203909,  0.36235775],\n",
       "       [ 1.3       ,  0.96355819,  0.26749883],\n",
       "       [ 1.4       ,  0.98544973,  0.16996714],\n",
       "       [ 1.5       ,  0.99749499,  0.0707372 ],\n",
       "       [ 1.6       ,  0.9995736 , -0.02919952],\n",
       "       [ 1.7       ,  0.99166481, -0.12884449],\n",
       "       [ 1.8       ,  0.97384763, -0.22720209],\n",
       "       [ 1.9       ,  0.94630009, -0.32328957],\n",
       "       [ 2.        ,  0.90929743, -0.41614684],\n",
       "       [ 2.1       ,  0.86320937, -0.5048461 ],\n",
       "       [ 2.2       ,  0.8084964 , -0.58850112],\n",
       "       [ 2.3       ,  0.74570521, -0.66627602],\n",
       "       [ 2.4       ,  0.67546318, -0.73739372],\n",
       "       [ 2.5       ,  0.59847214, -0.80114362],\n",
       "       [ 2.6       ,  0.51550137, -0.85688875],\n",
       "       [ 2.7       ,  0.42737988, -0.90407214],\n",
       "       [ 2.8       ,  0.33498815, -0.94222234],\n",
       "       [ 2.9       ,  0.23924933, -0.97095817],\n",
       "       [ 3.        ,  0.14112001, -0.9899925 ],\n",
       "       [ 3.1       ,  0.04158066, -0.99913515],\n",
       "       [ 3.2       , -0.05837414, -0.99829478],\n",
       "       [ 3.3       , -0.15774569, -0.98747977],\n",
       "       [ 3.4       , -0.2555411 , -0.96679819],\n",
       "       [ 3.5       , -0.35078323, -0.93645669],\n",
       "       [ 3.6       , -0.44252044, -0.89675842],\n",
       "       [ 3.7       , -0.52983614, -0.84810003],\n",
       "       [ 3.8       , -0.61185789, -0.79096771],\n",
       "       [ 3.9       , -0.68776616, -0.7259323 ],\n",
       "       [ 4.        , -0.7568025 , -0.65364362],\n",
       "       [ 4.1       , -0.81827711, -0.57482395],\n",
       "       [ 4.2       , -0.87157577, -0.49026082],\n",
       "       [ 4.3       , -0.91616594, -0.40079917],\n",
       "       [ 4.4       , -0.95160207, -0.30733287],\n",
       "       [ 4.5       , -0.97753012, -0.2107958 ],\n",
       "       [ 4.6       , -0.993691  , -0.11215253],\n",
       "       [ 4.7       , -0.99992326, -0.01238866],\n",
       "       [ 4.8       , -0.99616461,  0.08749898],\n",
       "       [ 4.9       , -0.98245261,  0.18651237],\n",
       "       [ 5.        , -0.95892427,  0.28366219],\n",
       "       [ 5.1       , -0.92581468,  0.37797774],\n",
       "       [ 5.2       , -0.88345466,  0.46851667],\n",
       "       [ 5.3       , -0.83226744,  0.55437434],\n",
       "       [ 5.4       , -0.77276449,  0.63469288],\n",
       "       [ 5.5       , -0.70554033,  0.70866977],\n",
       "       [ 5.6       , -0.63126664,  0.77556588],\n",
       "       [ 5.7       , -0.55068554,  0.83471278],\n",
       "       [ 5.8       , -0.46460218,  0.88551952],\n",
       "       [ 5.9       , -0.37387666,  0.92747843],\n",
       "       [ 6.        , -0.2794155 ,  0.96017029],\n",
       "       [ 6.1       , -0.1821625 ,  0.98326844],\n",
       "       [ 6.2       , -0.0830894 ,  0.9965421 ],\n",
       "       [ 6.3       ,  0.0168139 ,  0.99985864],\n",
       "       [ 6.4       ,  0.1165492 ,  0.99318492],\n",
       "       [ 6.5       ,  0.21511999,  0.97658763],\n",
       "       [ 6.6       ,  0.31154136,  0.95023259],\n",
       "       [ 6.7       ,  0.40484992,  0.91438315],\n",
       "       [ 6.8       ,  0.49411335,  0.86939749],\n",
       "       [ 6.9       ,  0.57843976,  0.8157251 ],\n",
       "       [ 7.        ,  0.6569866 ,  0.75390225],\n",
       "       [ 7.1       ,  0.72896904,  0.68454667],\n",
       "       [ 7.2       ,  0.79366786,  0.60835131],\n",
       "       [ 7.3       ,  0.85043662,  0.52607752],\n",
       "       [ 7.4       ,  0.8987081 ,  0.43854733],\n",
       "       [ 7.5       ,  0.93799998,  0.34663532],\n",
       "       [ 7.6       ,  0.96791967,  0.25125984],\n",
       "       [ 7.7       ,  0.98816823,  0.15337386],\n",
       "       [ 7.8       ,  0.99854335,  0.05395542],\n",
       "       [ 7.9       ,  0.99894134, -0.04600213],\n",
       "       [ 8.        ,  0.98935825, -0.14550003],\n",
       "       [ 8.1       ,  0.96988981, -0.24354415],\n",
       "       [ 8.2       ,  0.94073056, -0.33915486],\n",
       "       [ 8.3       ,  0.90217183, -0.43137684],\n",
       "       [ 8.4       ,  0.85459891, -0.51928865],\n",
       "       [ 8.5       ,  0.79848711, -0.6020119 ],\n",
       "       [ 8.6       ,  0.7343971 , -0.67872005],\n",
       "       [ 8.7       ,  0.66296923, -0.74864665],\n",
       "       [ 8.8       ,  0.58491719, -0.81109301],\n",
       "       [ 8.9       ,  0.50102086, -0.86543521],\n",
       "       [ 9.        ,  0.41211849, -0.91113026],\n",
       "       [ 9.1       ,  0.31909836, -0.9477216 ],\n",
       "       [ 9.2       ,  0.22288991, -0.97484362],\n",
       "       [ 9.3       ,  0.12445442, -0.99222533],\n",
       "       [ 9.4       ,  0.02477543, -0.99969304],\n",
       "       [ 9.5       , -0.07515112, -0.99717216],\n",
       "       [ 9.6       , -0.17432678, -0.98468786],\n",
       "       [ 9.7       , -0.27176063, -0.96236488],\n",
       "       [ 9.8       , -0.36647913, -0.93042627],\n",
       "       [ 9.9       , -0.45753589, -0.88919115]])"
      ]
     },
     "execution_count": 25,
     "metadata": {},
     "output_type": "execute_result"
    }
   ],
   "source": [
    "#lastly, we can change our dataframe into numpy array, which grants direct access to the data\n",
    "df.values\n"
   ]
  }
 ],
 "metadata": {
  "kernelspec": {
   "display_name": "base",
   "language": "python",
   "name": "python3"
  },
  "language_info": {
   "codemirror_mode": {
    "name": "ipython",
    "version": 3
   },
   "file_extension": ".py",
   "mimetype": "text/x-python",
   "name": "python",
   "nbconvert_exporter": "python",
   "pygments_lexer": "ipython3",
   "version": "3.11.5"
  },
  "orig_nbformat": 4
 },
 "nbformat": 4,
 "nbformat_minor": 2
}
