{
 "cells": [
  {
   "cell_type": "markdown",
   "metadata": {},
   "source": [
    "2.1 Data Input\n",
    "Read in data from different sources:\n",
    "    • A CVS-file with a header (’.\\Data\\data_kaplan\\swim100m.csv’). Also show the\n",
    "    first 5 data points.\n",
    "    • An MS-Excel file (’.\\Data\\data_others\\Table 2.8 Waist loss.xls’). Show the last\n",
    "    five data points.\n",
    "    • Read in the same file, but this time from the zipped archive http://cdn.crcpress.\n",
    "    com/downloads/C9500/GLM_data.zip.\n",
    "2.2 First Steps with Pandas\n",
    "    • Generate a pandas DataFrame, with the x-column time stamps from 0 to 10 s, at a\n",
    "    rate of 10 Hz, the y-column data values with a sine with 1.5 Hz, and the z-column\n",
    "    the corresponding cosine values. Label the x-column “Time”, and the y-column\n",
    "    “YVals”, and the z-column “ZVals”.\n",
    "    • Show the head of this DataFrame.\n",
    "    • Extract the data in lines 10–15 from “Yvals” and “ZVals”, and write them to the\n",
    "    file “out.txt”.\n",
    "    • Let the user know where the data have been written to."
   ]
  },
  {
   "cell_type": "code",
   "execution_count": null,
   "metadata": {},
   "outputs": [],
   "source": []
  }
 ],
 "metadata": {
  "language_info": {
   "name": "python"
  }
 },
 "nbformat": 4,
 "nbformat_minor": 2
}
