{
 "cells": [
  {
   "cell_type": "code",
   "execution_count": 23,
   "metadata": {},
   "outputs": [],
   "source": [
    "import os\n",
    "#import sys\n",
    "#import inspect"
   ]
  },
  {
   "cell_type": "code",
   "execution_count": 24,
   "metadata": {},
   "outputs": [
    {
     "name": "stdout",
     "output_type": "stream",
     "text": [
      "C:\\Users\\lenovo\\AppData\\Local\\Temp\\ipykernel_7072\\4214028201.py\n"
     ]
    }
   ],
   "source": [
    "#abspath = os.path.abspath(__file__)\n",
    "#dname = os.path.dirname(abspath)\n",
    "#os.chdir(dname)\n",
    "#print(os.path.basename(__file__))\n",
    "#print(sys.argv[0])\n",
    "#print(inspect.getfile(lambda:None))"
   ]
  },
  {
   "cell_type": "code",
   "execution_count": 30,
   "metadata": {},
   "outputs": [
    {
     "name": "stdout",
     "output_type": "stream",
     "text": [
      "C:\\Users\\lenovo\\Desktop\\Statystyka\\Python\\StatisticsWithPython\\Data\\data_kaplan\n"
     ]
    }
   ],
   "source": [
    "os.chdir(\"C:/Users/lenovo/Desktop/Statystyka/Python/StatisticsWithPython/Chapter_3_data_input\")\n",
    "path = \"../Data/data_kaplan\" #set path. \"..\" means go back one directory and from there navigate further, here to Data\n",
    "os.chdir(path) #set working directory to path\n",
    "print(os.getcwd())"
   ]
  },
  {
   "cell_type": "code",
   "execution_count": 31,
   "metadata": {},
   "outputs": [],
   "source": [
    "import pandas as pd\n",
    "import numpy as np"
   ]
  },
  {
   "cell_type": "code",
   "execution_count": 35,
   "metadata": {},
   "outputs": [
    {
     "name": "stdout",
     "output_type": "stream",
     "text": [
      "    year   time sex\n",
      "0   1905  65.80   M\n",
      "1   1908  65.60   M\n",
      "2   1910  62.80   M\n",
      "3   1912  61.60   M\n",
      "4   1918  61.40   M\n",
      "..   ...    ...  ..\n",
      "57  1986  54.73   F\n",
      "58  1992  54.48   F\n",
      "59  1994  54.01   F\n",
      "60  2000  53.77   F\n",
      "61  2004  53.52   F\n",
      "\n",
      "[62 rows x 3 columns]\n"
     ]
    }
   ],
   "source": [
    "df = pd.read_csv(\"swim100m.csv\",delimiter=\",\",skipfooter=0) #we can read csv file to pandas data frame\n",
    "#first we pass path and then delimiter, which can also be a regular expression\n",
    "#skipfooter=1 means we want to ignore 1 last row from data file. it's usefull when there is a footer, for example with\n",
    "#author or date of creation of the file\n",
    "print(df)"
   ]
  },
  {
   "cell_type": "code",
   "execution_count": 36,
   "metadata": {},
   "outputs": [],
   "source": [
    "os.chdir(\"../../Chapter_3_data_input/\") #we go back two directories and into the folder our python module is in"
   ]
  },
  {
   "cell_type": "code",
   "execution_count": null,
   "metadata": {},
   "outputs": [],
   "source": [
    "#reading data from excel\n",
    "#pd.read_excel()\n",
    "#pd.ExcelFile\n",
    "#there are differences between those two but I don't get them just yet\n",
    "#page 48 in the ISP book"
   ]
  },
  {
   "cell_type": "code",
   "execution_count": null,
   "metadata": {},
   "outputs": [],
   "source": [
    "#reading data from other formats, e.g. matlab\n",
    "#page 49 in the ISP book"
   ]
  }
 ],
 "metadata": {
  "kernelspec": {
   "display_name": "base",
   "language": "python",
   "name": "python3"
  },
  "language_info": {
   "codemirror_mode": {
    "name": "ipython",
    "version": 3
   },
   "file_extension": ".py",
   "mimetype": "text/x-python",
   "name": "python",
   "nbconvert_exporter": "python",
   "pygments_lexer": "ipython3",
   "version": "3.11.5"
  }
 },
 "nbformat": 4,
 "nbformat_minor": 2
}
